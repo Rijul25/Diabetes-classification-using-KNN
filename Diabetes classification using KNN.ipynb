{
 "cells": [
  {
   "cell_type": "code",
   "execution_count": 23,
   "metadata": {},
   "outputs": [],
   "source": [
    "import pandas as pd\n",
    "import numpy as np\n",
    "from matplotlib import pyplot as plt"
   ]
  },
  {
   "cell_type": "code",
   "execution_count": 24,
   "metadata": {},
   "outputs": [],
   "source": [
    "dfx=pd.read_csv(\"./Downloads/Diabetes_XTrain.csv\")\n",
    "dfy=pd.read_csv(\"./Downloads/Diabetes_YTrain.csv\")"
   ]
  },
  {
   "cell_type": "code",
   "execution_count": 25,
   "metadata": {},
   "outputs": [
    {
     "name": "stdout",
     "output_type": "stream",
     "text": [
      "     Pregnancies  Glucose  BloodPressure  SkinThickness  Insulin   BMI  \\\n",
      "0              7      168             88             42      321  38.2   \n",
      "1              8      110             76              0        0  27.8   \n",
      "2              7      147             76              0        0  39.4   \n",
      "3              2      100             66             20       90  32.9   \n",
      "4              4      129             86             20      270  35.1   \n",
      "5              7      100              0              0        0  30.0   \n",
      "6              4      110             66              0        0  31.9   \n",
      "7              1      111             86             19        0  30.1   \n",
      "8              3      169             74             19      125  29.9   \n",
      "9              1       71             62              0        0  21.8   \n",
      "10             2      101             58             35       90  21.8   \n",
      "11            10      115              0              0        0   0.0   \n",
      "12             3       96             56             34      115  24.7   \n",
      "13             6      124             72              0        0  27.6   \n",
      "14             0      145              0              0        0  44.2   \n",
      "15             6      114              0              0        0   0.0   \n",
      "16             7      107             74              0        0  29.6   \n",
      "17             1      118             58             36       94  33.3   \n",
      "18             4      132             86             31        0  28.0   \n",
      "19             0      114             80             34      285  44.2   \n",
      "20             0      161             50              0        0  21.9   \n",
      "21             1       87             68             34       77  37.6   \n",
      "22             5       96             74             18       67  33.6   \n",
      "23             1      107             68             19        0  26.5   \n",
      "24             3      107             62             13       48  22.9   \n",
      "25             5       99             54             28       83  34.0   \n",
      "26             2      108             62             32       56  25.2   \n",
      "27             0      119              0              0        0  32.4   \n",
      "28             4      144             58             28      140  29.5   \n",
      "29             9      102             76             37        0  32.9   \n",
      "..           ...      ...            ...            ...      ...   ...   \n",
      "546            1        0             74             20       23  27.7   \n",
      "547            0      106             70             37      148  39.4   \n",
      "548            8      176             90             34      300  33.7   \n",
      "549            5      147             75              0        0  29.9   \n",
      "550            0      137             84             27        0  27.3   \n",
      "551            1      193             50             16      375  25.9   \n",
      "552            4      146             85             27      100  28.9   \n",
      "553            0      151             90             46        0  42.1   \n",
      "554            8      120              0              0        0  30.0   \n",
      "555            1      125             50             40      167  33.3   \n",
      "556            2      146              0              0        0  27.5   \n",
      "557            2      100             54             28      105  37.8   \n",
      "558            8       99             84              0        0  35.4   \n",
      "559            1      109             56             21      135  25.2   \n",
      "560           10      129             62             36        0  41.2   \n",
      "561            2       68             70             32       66  25.0   \n",
      "562            4      112             78             40        0  39.4   \n",
      "563            3      141              0              0        0  30.0   \n",
      "564            0      137             68             14      148  24.8   \n",
      "565            2      109             92              0        0  42.7   \n",
      "566            7      136             90              0        0  29.9   \n",
      "567           12      151             70             40      271  41.8   \n",
      "568            0      117             80             31       53  45.2   \n",
      "569            1      124             60             32        0  35.8   \n",
      "570            7      179             95             31        0  34.2   \n",
      "571            2      111             60              0        0  26.2   \n",
      "572            7      187             68             39      304  37.7   \n",
      "573            2      122             60             18      106  29.8   \n",
      "574            4      154             72             29      126  31.3   \n",
      "575            1       88             78             29       76  32.0   \n",
      "\n",
      "     DiabetesPedigreeFunction  Age  \n",
      "0                       0.787   40  \n",
      "1                       0.237   58  \n",
      "2                       0.257   43  \n",
      "3                       0.867   28  \n",
      "4                       0.231   23  \n",
      "5                       0.484   32  \n",
      "6                       0.471   29  \n",
      "7                       0.143   23  \n",
      "8                       0.268   31  \n",
      "9                       0.416   26  \n",
      "10                      0.155   22  \n",
      "11                      0.261   30  \n",
      "12                      0.944   39  \n",
      "13                      0.368   29  \n",
      "14                      0.630   31  \n",
      "15                      0.189   26  \n",
      "16                      0.254   31  \n",
      "17                      0.261   23  \n",
      "18                      0.419   63  \n",
      "19                      0.167   27  \n",
      "20                      0.254   65  \n",
      "21                      0.401   24  \n",
      "22                      0.997   43  \n",
      "23                      0.165   24  \n",
      "24                      0.678   23  \n",
      "25                      0.499   30  \n",
      "26                      0.128   21  \n",
      "27                      0.141   24  \n",
      "28                      0.287   37  \n",
      "29                      0.665   46  \n",
      "..                        ...  ...  \n",
      "546                     0.299   21  \n",
      "547                     0.605   22  \n",
      "548                     0.467   58  \n",
      "549                     0.434   28  \n",
      "550                     0.231   59  \n",
      "551                     0.655   24  \n",
      "552                     0.189   27  \n",
      "553                     0.371   21  \n",
      "554                     0.183   38  \n",
      "555                     0.962   28  \n",
      "556                     0.240   28  \n",
      "557                     0.498   24  \n",
      "558                     0.388   50  \n",
      "559                     0.833   23  \n",
      "560                     0.441   38  \n",
      "561                     0.187   25  \n",
      "562                     0.236   38  \n",
      "563                     0.761   27  \n",
      "564                     0.143   21  \n",
      "565                     0.845   54  \n",
      "566                     0.210   50  \n",
      "567                     0.742   38  \n",
      "568                     0.089   24  \n",
      "569                     0.514   21  \n",
      "570                     0.164   60  \n",
      "571                     0.343   23  \n",
      "572                     0.254   41  \n",
      "573                     0.717   22  \n",
      "574                     0.338   37  \n",
      "575                     0.365   29  \n",
      "\n",
      "[576 rows x 8 columns]\n"
     ]
    }
   ],
   "source": [
    "print(dfx)"
   ]
  },
  {
   "cell_type": "code",
   "execution_count": 26,
   "metadata": {},
   "outputs": [
    {
     "name": "stdout",
     "output_type": "stream",
     "text": [
      "     Outcome\n",
      "0          1\n",
      "1          0\n",
      "2          1\n",
      "3          1\n",
      "4          0\n",
      "5          1\n",
      "6          0\n",
      "7          0\n",
      "8          1\n",
      "9          0\n",
      "10         0\n",
      "11         1\n",
      "12         0\n",
      "13         1\n",
      "14         1\n",
      "15         0\n",
      "16         1\n",
      "17         0\n",
      "18         0\n",
      "19         0\n",
      "20         0\n",
      "21         0\n",
      "22         0\n",
      "23         0\n",
      "24         1\n",
      "25         0\n",
      "26         0\n",
      "27         1\n",
      "28         0\n",
      "29         1\n",
      "..       ...\n",
      "546        0\n",
      "547        0\n",
      "548        1\n",
      "549        0\n",
      "550        0\n",
      "551        0\n",
      "552        0\n",
      "553        1\n",
      "554        1\n",
      "555        1\n",
      "556        1\n",
      "557        0\n",
      "558        0\n",
      "559        0\n",
      "560        1\n",
      "561        0\n",
      "562        0\n",
      "563        1\n",
      "564        0\n",
      "565        0\n",
      "566        0\n",
      "567        1\n",
      "568        0\n",
      "569        0\n",
      "570        0\n",
      "571        0\n",
      "572        1\n",
      "573        0\n",
      "574        0\n",
      "575        0\n",
      "\n",
      "[576 rows x 1 columns]\n"
     ]
    }
   ],
   "source": [
    "print(dfy)"
   ]
  },
  {
   "cell_type": "code",
   "execution_count": 29,
   "metadata": {},
   "outputs": [
    {
     "name": "stdout",
     "output_type": "stream",
     "text": [
      "(576, 8)\n",
      "(576,)\n"
     ]
    }
   ],
   "source": [
    "X=dfx.values\n",
    "Y=dfy.values.reshape((-1))\n",
    "\n",
    "print(X.shape)\n",
    "print(Y.shape)"
   ]
  },
  {
   "cell_type": "code",
   "execution_count": 31,
   "metadata": {},
   "outputs": [],
   "source": [
    "X_test=pd.read_csv(\"./Downloads/Diabetes_Xtest.csv\")\n",
    "X_=X_test.values"
   ]
  },
  {
   "cell_type": "code",
   "execution_count": 34,
   "metadata": {},
   "outputs": [],
   "source": [
    "def dist(x1,x2):\n",
    "    return np.sqrt(sum((x1-x2)**2))\n",
    "\n",
    "# Test Time \n",
    "def knn(X,Y,queryPoint,k=5):\n",
    "    \n",
    "    vals = []\n",
    "    m = X.shape[0]\n",
    "    \n",
    "    for i in range(m):\n",
    "        d = dist(queryPoint,X[i])\n",
    "        vals.append((d,Y[i]))\n",
    "        \n",
    "    \n",
    "    vals = sorted(vals)\n",
    "    # Nearest/First K points\n",
    "    vals = vals[:k]\n",
    "    \n",
    "    vals = np.array(vals)\n",
    "    \n",
    "    #print(vals)\n",
    "    new_vals=np.unique(vals[:,1],return_counts=True)\n",
    "    #print(new_vals)\n",
    "    index=new_vals[1].argmax()\n",
    "    pred=new_vals[0][index]\n",
    "    return pred"
   ]
  },
  {
   "cell_type": "code",
   "execution_count": 39,
   "metadata": {},
   "outputs": [
    {
     "name": "stdout",
     "output_type": "stream",
     "text": [
      "0.0\n"
     ]
    }
   ],
   "source": [
    "x=knn(X,Y,X_[5])\n",
    "print(x)"
   ]
  },
  {
   "cell_type": "code",
   "execution_count": 42,
   "metadata": {},
   "outputs": [
    {
     "name": "stdout",
     "output_type": "stream",
     "text": [
      "[  5.    137.    108.      0.      0.     48.8     0.227  37.   ]\n"
     ]
    }
   ],
   "source": [
    "print(X_[5])"
   ]
  },
  {
   "cell_type": "code",
   "execution_count": null,
   "metadata": {},
   "outputs": [],
   "source": []
  }
 ],
 "metadata": {
  "kernelspec": {
   "display_name": "Python 3",
   "language": "python",
   "name": "python3"
  },
  "language_info": {
   "codemirror_mode": {
    "name": "ipython",
    "version": 3
   },
   "file_extension": ".py",
   "mimetype": "text/x-python",
   "name": "python",
   "nbconvert_exporter": "python",
   "pygments_lexer": "ipython3",
   "version": "3.7.2"
  }
 },
 "nbformat": 4,
 "nbformat_minor": 2
}
